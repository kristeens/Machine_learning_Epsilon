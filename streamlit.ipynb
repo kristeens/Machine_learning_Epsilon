{
 "cells": [
  {
   "cell_type": "code",
   "execution_count": 44,
   "metadata": {},
   "outputs": [
    {
     "name": "stdout",
     "output_type": "stream",
     "text": [
      "Overwriting store_1.py\n"
     ]
    }
   ],
   "source": [
    "%%writefile store_1.py\n",
    "import streamlit as st\n",
    "import pandas as pd\n",
    "import plotly.express as px\n",
    "\n",
    "\n",
    "st.title(\"Welcome to Our Orphans Charity\")\n",
    "st.image(\"photo.jpg\",use_container_width=True)\n",
    "\n",
    "st.header(\"Understand Data\",divider=\"green\")\n",
    "\n",
    "tab_1,tab_2 = st.tabs([\"About Census\",\"Columns Definition\"])\n",
    "\n",
    "with tab_1:\n",
    "    st.markdown(\"<center><p><b>The US Adult Census dataset is a repository of 45,221 entries extracted from the 1994 US Census database</b></p></center>\",unsafe_allow_html=True)\n",
    "    df = pd.read_csv(r\"census.csv\")\n",
    "    st.dataframe(df.head())\n",
    "    \n",
    "with tab_2:\n",
    "    st.markdown(\"<p><b>The Census Income dataset has 45,221 entries.Each entry contains the following information about an individual:</b><br><p><b>● Age</b>​ :The age of an individual Integer greater than 0.</p><br><p><b>● Workclass</b>​ : A general term to represent the employment status of an individual.</p><br><p><b>● Education​ :</b> The highest level of education achieved by an individual.</p><p><b>● Education ­Num​ :</b> The highest level of education achieved in numerical form.</p><p><b>● Marital ­Status​ :</b> Marital Status of an individual. <b>Married ­civ ­spouse</b> corresponds to acivilian spouse while <b>Married ­AF ­spouse</b> is a spouse in the Armed Forces.</p><br><p><b>●Occupation​ :</b> The general type of occupation of an individual.</p><br><p><b>●Relationship​ :</b> Represents what this individual is relative to others. For example an individual could be a Husband. Each entry only has one relationship attribute and is somewhat redundant with marital status.</p><br><p><b>●Race​ :</b> Descriptions of an individual’s race</p><br><p><b>●Sex​ :</b> The biological sex of the individual</p><br><p><b>●Capital­ Gain​ :</b> Capital Gains for an individual <br><p><b>● Capital ­Loss​ :</b> Capital Loss for an individual.</p><br><p><b>● Hours­Per­Week​ :</b> The hours an individual has reported to work per week.</p><br><p><b>● Native ­Country​ :</b> country of origin for an individual.</p><br><p><b>● Income​ :</b> Whether or not an individual makes more othan $50,000 annually.</p>\"\n",
    ",unsafe_allow_html=True)\n",
    "\n",
    "#page_choice = st.sidebar.selectbox(label='Select Page', options=[\"Catigorical Visualization\", \"Numerical Visualization\",\"Voting\"])\n",
    "\n",
    "\n",
    "#st.text(\"123\")\n",
    "#st.code(\"y=3\")\n",
    "#st.markdown(\"#### Markdown\")\n",
    "#st.markdown(\"<h1>Markdown</h1>\",unsafe_allow_html=True)"
   ]
  },
  {
   "cell_type": "code",
   "execution_count": 41,
   "metadata": {},
   "outputs": [
    {
     "name": "stdout",
     "output_type": "stream",
     "text": [
      "Overwriting store_5.py\n"
     ]
    }
   ],
   "source": [
    "%%writefile store_5.py\n",
    "import streamlit as st\n",
    "gender = st.radio(label='Gender', options=['Male', \"Female\"])\n",
    "age = st.slider(label=\"Age\", min_value=17, max_value=90) # numerical\n",
    "Edu_lvl = st.selectbox(label='Education Level', options=['3.0','4.0','5.0','6.0','7.0','8.0', '9.0','10.0','11.0', '12.0','13.0', '14.0','15.0', '16.0']) # categorical\n",
    "marital_status = st.selectbox(label='Work Life Balance', options=[' Never-married', ' Married-civ-spouse' ,' Divorced',\n",
    " ' Married-spouse-absent', ' Separated' ,' Married-AF-spouse', ' Widowed']) # categorical\n",
    "Occupation = st.selectbox(label='Occupation', options=[' Adm-clerical' ,' Exec-managerial', ' Handlers-cleaners', ' Prof-specialty'\n",
    " ' Other-service', ' Sales', ' Transport-moving' ,' Farming-fishing',\n",
    " ' Machine-op-inspct', ' Tech-support' ,' Craft-repair' ,' Protective-serv',\n",
    " ' Armed-Forces', ' Priv-house-serv'])\n",
    "work_lb = st.selectbox(label='Work Life Balance', options=['Good Balance', 'High Balance', 'Low Balance', 'Moderate Balance']) # categorical\n",
    "capital_gain = st.number_input(label=\"capital gain\",min_value=1 , max_value=99999)\n",
    "capital_loss = st.number_input(label=\"capital loss\",min_value=1 , max_value=4356)\n",
    "income_per_hr =st.number_input(label=\"income per hour\",min_value=1 , max_value=11365)\n",
    "\n",
    "\n",
    "\n",
    "is_submit = st.button(\"Submit\") # True / False\n",
    "if is_submit:\n",
    "    print(f\"gender: {gender}\")\n",
    "    print(f\"age: {age}\")\n",
    "    print(f\"Edu_lvl: {Edu_lvl}\")\n",
    "    print(f\"Occupation: {Occupation}\")\n",
    "    print(f\"marital_status: {marital_status}\")\n",
    "    print(f\"work_lb: {work_lb}\")\n",
    "    print(f\"capital_gain: {capital_gain}\")\n",
    "    print(f\"capital_loss: {capital_loss}\")\n",
    "    print(f\"income_per_hr: {income_per_hr}\")\n"
   ]
  },
  {
   "cell_type": "code",
   "execution_count": 36,
   "metadata": {},
   "outputs": [
    {
     "name": "stdout",
     "output_type": "stream",
     "text": [
      "Writing home_page2.py\n"
     ]
    }
   ],
   "source": [
    "%%writefile home_page2.py\n",
    "import streamlit as st\n",
    "age = st.slider(label=\"Age\",min_value=0 , max_value=50)\n",
    "train = st.selectbox(label=\"Lessons\",options=[\"low\",\"mid\",\"Hight\"])\n",
    "is_submit = st.button(\"Submit\")\n",
    "if is_submit:\n",
    "    print(age)\n",
    "    print(train)\n",
    "    st.text(f\"{age}\")\n",
    "multi =st.multiselect(label=\"mmm\", options=[\"a\",\"b\"])\n",
    "st.number_input(label=\"amc\",min_value=0 , max_value=50)\n",
    "username = st.text_input(\"Name\",max_chars=50)\n",
    "is_helth=st.checkbox(label=\"123\")\n",
    "st.radio(label=\"Gender\",options=[\"low\",\"mid\",\"Hight\"])"
   ]
  },
  {
   "cell_type": "code",
   "execution_count": null,
   "metadata": {},
   "outputs": [
    {
     "name": "stdout",
     "output_type": "stream",
     "text": [
      "Overwriting store_2.py\n"
     ]
    }
   ],
   "source": [
    "%%writefile store_2.py\n",
    "import streamlit as st\n",
    "import numpy as np\n",
    "import pandas as pd\n",
    "import plotly.express as px\n",
    "import seaborn as sns\n",
    "import matplotlib.pyplot as plt\n",
    "#st.image(\"images.png\",caption=\"plane\",width=200)\n",
    "plt.clf()\n",
    "df = pd.read_csv(r\"census.csv\" )\n",
    "st.title(\"Interactive Visualizations\")\n",
    "cat_cols = list(df.select_dtypes(include='O').columns)\n",
    "#num_cols = list(df.select_dtypes(include='number').columns)\n",
    "#num_choice = st.radio(label=\"Numerical Column\", options=num_cols)\n",
    "cat_choice = st.radio(label=\"Categorical Column\", options=cat_cols)\n",
    "cat_choice1 = st.selectbox(label=\"Categorical Column\", options=cat_cols)\n",
    "#fig = px.histogram(df, x=cat_choice, y=cat_choice1)\n",
    "fig = sns.histplot(x=df[f'{cat_choice}'], hue=df[f'{cat_choice1}'])\n",
    "#st.bar_chart(data=df,x=cat_choice,y=cat_choice1,stack=\"normalize\",horizontal=True,color=[\"#fd0\", \"#f0f\", \"#04f\",\"#fd20\", \"#f0h\", \"#20f\",\"#fd50\", \"#f0g\", \"#50f\"])\n",
    "#st.plotly_chart(fig)\n",
    "st.pyplot(fig)\n",
    "\n",
    "age = st.slider(label=\"Age\",min_value=0 , max_value=50)\n",
    "train = st.selectbox(label=\"Lessons\",options=[\"low\",\"mid\",\"Hight\"])\n",
    "is_submit = st.button(\"Submit\")\n",
    "if is_submit:\n",
    "    print(age)\n",
    "    print(train)\n",
    "    st.text(f\"{age}\")\n",
    "multi =st.multiselect(label=\"mmm\", options=[\"a\",\"b\"])\n",
    "st.number_input(label=\"amc\",min_value=0 , max_value=50)\n",
    "username = st.text_input(\"Name\",max_chars=50)\n",
    "is_helth=st.checkbox(label=\"123\")\n",
    "st.radio(label=\"sex\",options=[\"low\",\"mid\",\"Hight\"])"
   ]
  },
  {
   "cell_type": "code",
   "execution_count": null,
   "metadata": {},
   "outputs": [
    {
     "name": "stdout",
     "output_type": "stream",
     "text": [
      "Overwriting store_3.py\n"
     ]
    }
   ],
   "source": [
    "%%writefile store_3.py\n",
    "import streamlit as st\n",
    "import numpy as np\n",
    "import pandas as pd\n",
    "import plotly.express as px\n",
    "#import seaborn as sns\n",
    "\n",
    "fig4 =px.histogram(df, x='income')\n",
    "st.plotly_chart(fig4)\n",
    "#fig2 = sns.barplot(x = df['Category'] , y=df['Price '] , estimator = np.mean)\n",
    "#st.pyplot(fig2)\n"
   ]
  },
  {
   "cell_type": "code",
   "execution_count": 1,
   "metadata": {},
   "outputs": [
    {
     "name": "stdout",
     "output_type": "stream",
     "text": [
      "Overwriting store_4.py\n"
     ]
    }
   ],
   "source": [
    "%%writefile store_4.py\n",
    "import streamlit as st\n",
    "import numpy as np\n",
    "import pandas as pd\n",
    "import plotly.express as px\n",
    "#import seaborn as sns\n",
    "\n",
    "st.title(\"Welcome to Our Charity\")\n",
    "#st.header(\"ٍStore Visuals\",help= \"...vs...\",divider=True)\n",
    "st.header(\"Categorical Visualization\",divider=\"green\")\n",
    "\n",
    "df = pd.read_csv(r\"census.csv\")\n",
    "df1=df.copy()\n",
    "df1.drop_duplicates(inplace=True)\n",
    "df1.reset_index(inplace=True,drop=True)\n",
    "\n",
    "#st.dataframe(df.head())\n",
    "\n",
    "#df = pd.read_csv(r\"E:\\epsilon_ai\\39\\products_details.csv\")\n",
    "tab_1,tab_2,tab_3,tab_4,tab_5,tab_6 = st.tabs([\"Income Range Count\",\"Education_Level vs. Income\",\"Workclass vs. Income\",\"Occupation vs. Income\",\"Race vs. Income\"])\n",
    "\n",
    "with tab_1:\n",
    "    st.markdown(\"<center><p><b>As we can see in this graph most of people have income less than or equal 50K </b></p></center>\",unsafe_allow_html=True)\n",
    "    fig = px.histogram(df, x='income')\n",
    "    st.plotly_chart(fig)\n",
    "    \n",
    "with tab_2:\n",
    "    st.markdown(\"<p><b>As we can see in this graph the highest ability for charity is for a person of HS-grade and Bachelors degrees as the number of persons with income greater than 50K is 2712 and 2046</b></p>\",unsafe_allow_html=True)\n",
    "    fig1 = px.histogram(df1, y='education_level', color='income')\n",
    "    st.plotly_chart(fig1)\n",
    "    \n",
    "    #dff = df.groupby(\"Category\")[[\"Total Rates\"]].sum().reset_index().sort_values(by=\"Total Rates\",ascending= False)\n",
    "    #fig = px.pie(names = dff[\"Category\"],values= dff[\"Total Rates\"],title = \"Distribution of Total Rates across Category\")\n",
    "    #st.plotly_chart(fig)\n",
    "\n",
    "with tab_3:\n",
    "    st.markdown(\"<p><b>As we can see in this graph the highest ability for charity is for a person that have private work as the number of persons with income greater than 50K is 6156</b></p>\",unsafe_allow_html=True)\n",
    "    fig2 = px.histogram(df1, y='workclass', color='income')\n",
    "    st.plotly_chart(fig2)\n",
    "    #df_num = df.select_dtypes(include=np.number)\n",
    "    #fig1 =px.imshow(df_num.corr(),text_auto = True)\n",
    "    #st.plotly_chart(fig1)\n",
    "with tab_4:\n",
    "    st.markdown(\"<p><b>As we can see in this graph the highest ability for charity is for a Exec-managerial and Prof-specialty as the number of persons with income greater than 50K is 2489 and 2477 </b></p>\",unsafe_allow_html=True)\n",
    "    fig3 = px.histogram(df1, y='occupation', color='income')\n",
    "    st.plotly_chart(fig3)\n",
    "with tab_5:\n",
    "    st.markdown(\"<p><b>As we can see in this graph the highest ability for charity is for a White Race as the number of persons with income greater than 50K is 8980 </b></p>\",unsafe_allow_html=True)\n",
    "    fig4 = px.histogram(df1, y='race', color='income')\n",
    "    st.plotly_chart(fig4)\n",
    "with tab_6:  \n",
    "    st.markdown(\"<p><b>As we can see in this graph the highest ability for charity is for an adult person as the number of persons with income greater than 50K is 9394 </b></p>\",unsafe_allow_html=True)\n",
    "    fig5=px.histogram(df, y='education_level', color='income')\n",
    "    st.plotly_chart(fig5)\n",
    "    \n"
   ]
  },
  {
   "cell_type": "code",
   "execution_count": 28,
   "metadata": {},
   "outputs": [],
   "source": [
    "import streamlit as st\n",
    "import numpy as np\n",
    "import pandas as pd\n",
    "import plotly.express as px\n",
    "import seaborn as sns\n",
    "import matplotlib as lib\n",
    "import matplotlib.pyplot as plt"
   ]
  },
  {
   "cell_type": "code",
   "execution_count": 19,
   "metadata": {},
   "outputs": [
    {
     "data": {
      "text/plain": [
       "'1.42.0'"
      ]
     },
     "execution_count": 19,
     "metadata": {},
     "output_type": "execute_result"
    }
   ],
   "source": [
    "st.__version__"
   ]
  },
  {
   "cell_type": "code",
   "execution_count": 24,
   "metadata": {},
   "outputs": [
    {
     "data": {
      "text/plain": [
       "'2.2.3'"
      ]
     },
     "execution_count": 24,
     "metadata": {},
     "output_type": "execute_result"
    }
   ],
   "source": [
    "pd.__version__"
   ]
  },
  {
   "cell_type": "code",
   "execution_count": 25,
   "metadata": {},
   "outputs": [
    {
     "data": {
      "text/plain": [
       "'2.1.1'"
      ]
     },
     "execution_count": 25,
     "metadata": {},
     "output_type": "execute_result"
    }
   ],
   "source": [
    "np.__version__"
   ]
  },
  {
   "cell_type": "code",
   "execution_count": 29,
   "metadata": {},
   "outputs": [
    {
     "data": {
      "text/plain": [
       "'3.9.2'"
      ]
     },
     "execution_count": 29,
     "metadata": {},
     "output_type": "execute_result"
    }
   ],
   "source": [
    "lib.__version__"
   ]
  },
  {
   "cell_type": "code",
   "execution_count": 30,
   "metadata": {},
   "outputs": [
    {
     "data": {
      "text/plain": [
       "'5.24.1'"
      ]
     },
     "execution_count": 30,
     "metadata": {},
     "output_type": "execute_result"
    }
   ],
   "source": [
    "import plotly\n",
    "plotly.__version__"
   ]
  },
  {
   "cell_type": "code",
   "execution_count": 31,
   "metadata": {},
   "outputs": [
    {
     "data": {
      "text/plain": [
       "'0.13.2'"
      ]
     },
     "execution_count": 31,
     "metadata": {},
     "output_type": "execute_result"
    }
   ],
   "source": [
    "sns.__version__"
   ]
  }
 ],
 "metadata": {
  "kernelspec": {
   "display_name": "Python 3",
   "language": "python",
   "name": "python3"
  },
  "language_info": {
   "codemirror_mode": {
    "name": "ipython",
    "version": 3
   },
   "file_extension": ".py",
   "mimetype": "text/x-python",
   "name": "python",
   "nbconvert_exporter": "python",
   "pygments_lexer": "ipython3",
   "version": "3.12.4"
  }
 },
 "nbformat": 4,
 "nbformat_minor": 2
}
